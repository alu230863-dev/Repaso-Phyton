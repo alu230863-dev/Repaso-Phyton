{
  "nbformat": 4,
  "nbformat_minor": 0,
  "metadata": {
    "colab": {
      "provenance": [],
      "authorship_tag": "ABX9TyP/YLSDB7tBQsOy2jW48POo",
      "include_colab_link": true
    },
    "kernelspec": {
      "name": "python3",
      "display_name": "Python 3"
    },
    "language_info": {
      "name": "python"
    }
  },
  "cells": [
    {
      "cell_type": "markdown",
      "metadata": {
        "id": "view-in-github",
        "colab_type": "text"
      },
      "source": [
        "<a href=\"https://colab.research.google.com/github/alu230863-dev/Repaso-Phyton/blob/main/EricKalMM.ipynb\" target=\"_parent\"><img src=\"https://colab.research.google.com/assets/colab-badge.svg\" alt=\"Open In Colab\"/></a>"
      ]
    },
    {
      "cell_type": "code",
      "execution_count": null,
      "metadata": {
        "id": "bSVREdwFz6PS"
      },
      "outputs": [],
      "source": []
    },
    {
      "cell_type": "markdown",
      "source": [
        "Programa 1 en phyton para imprimir el nombre con hola mundo"
      ],
      "metadata": {
        "id": "7Hs8zn7M0PsW"
      }
    },
    {
      "cell_type": "code",
      "source": [
        "print (\"Hola Mundo\")\n",
        "nombre=(input(\"Captura tu nombre\"))\n",
        "print (nombre)"
      ],
      "metadata": {
        "colab": {
          "base_uri": "https://localhost:8080/"
        },
        "id": "MSfJ-b7u0XyS",
        "outputId": "c614fb7e-cfa7-4b83-d459-1eda10bd0f84"
      },
      "execution_count": 2,
      "outputs": [
        {
          "output_type": "stream",
          "name": "stdout",
          "text": [
            "Hola Mundo\n",
            "Captura tu nombreEric\n",
            "Eric\n"
          ]
        }
      ]
    },
    {
      "cell_type": "markdown",
      "source": [
        "Programa 2 capturar tu nombre, paterno y materno e imprimirlo en pantalla"
      ],
      "metadata": {
        "id": "rYCtvdg61Zhu"
      }
    },
    {
      "cell_type": "code",
      "source": [
        "nombre=(input(\"Captura tu nombre: \"))\n",
        "apellidopa=(input(\"Captura apellido paterno: \"))\n",
        "apellidoma=(input(\"Captura apellido materno: \"))\n",
        "print (nombre, apellidopa, apellidoma)"
      ],
      "metadata": {
        "colab": {
          "base_uri": "https://localhost:8080/"
        },
        "id": "4AQQfof31jSq",
        "outputId": "805fb81e-e684-4b1a-8af3-532419f35b01"
      },
      "execution_count": 4,
      "outputs": [
        {
          "output_type": "stream",
          "name": "stdout",
          "text": [
            "Captura tu nombre: Eric\n",
            "Captura apellido paterno: Martinez\n",
            "Captura apellido materno: Martinez\n",
            "Eric Martinez Martinez\n"
          ]
        }
      ]
    }
  ]
}