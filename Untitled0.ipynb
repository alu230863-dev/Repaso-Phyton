{
  "nbformat": 4,
  "nbformat_minor": 0,
  "metadata": {
    "colab": {
      "provenance": [],
      "authorship_tag": "ABX9TyPXt+nmYaT7wHL/sWFuVo9J",
      "include_colab_link": true
    },
    "kernelspec": {
      "name": "python3",
      "display_name": "Python 3"
    },
    "language_info": {
      "name": "python"
    }
  },
  "cells": [
    {
      "cell_type": "markdown",
      "metadata": {
        "id": "view-in-github",
        "colab_type": "text"
      },
      "source": [
        "<a href=\"https://colab.research.google.com/github/alu230863-dev/Repaso-Phyton/blob/main/Untitled0.ipynb\" target=\"_parent\"><img src=\"https://colab.research.google.com/assets/colab-badge.svg\" alt=\"Open In Colab\"/></a>"
      ]
    },
    {
      "cell_type": "markdown",
      "source": [
        "Ejercicios a desarrollar en Colab con Github\n",
        "\n",
        "1- Realizar un programa en phyton que te permita capturar 2 numeros e imprime la suma, la resta, la multiplicacion y la division de ambos.\n",
        "\n",
        "2- Realizar un programa en phyton mediante el cual calcules el total de caracteres que tiene un nombre capturado desde el teclado.\n",
        "\n",
        "3- Realizar un programa en phyton que permita imprimir los 7 dias de la semana."
      ],
      "metadata": {
        "id": "JjHoTkCU5QF2"
      }
    },
    {
      "cell_type": "code",
      "execution_count": 4,
      "metadata": {
        "colab": {
          "base_uri": "https://localhost:8080/"
        },
        "id": "MTnpzChM5MQv",
        "outputId": "60bf0c82-413f-46eb-cd7f-2919c5dc254c"
      },
      "outputs": [
        {
          "output_type": "stream",
          "name": "stdout",
          "text": [
            "Ejercicio 1\n",
            "Captura el primer numero: 10\n",
            "Captura el segundo numero numero: 2\n",
            "Suma:  12  Resta:  8  Multiplicacion:  20  Division:  5.0\n"
          ]
        }
      ],
      "source": [
        "print (\"Ejercicio 1\")\n",
        "n1=int(input(\"Captura el primer numero: \"))\n",
        "n2=int(input(\"Captura el segundo numero numero: \"))\n",
        "s=n1+n2\n",
        "r=n1-n2\n",
        "m=n1*n2\n",
        "d=n1/n2\n",
        "print (\"Suma: \",s,\" Resta: \",r,\" Multiplicacion: \",m,\" Division: \",d)"
      ]
    },
    {
      "cell_type": "code",
      "source": [
        "print (\"Ejercicio 2\")\n",
        "n=(input(\"Captura el nombre: \"))\n",
        "c=len(n)\n",
        "print (\"El nombre \",n,\" tiene \",c,\" caracteres\")"
      ],
      "metadata": {
        "colab": {
          "base_uri": "https://localhost:8080/"
        },
        "id": "Zc-1SEna8PTg",
        "outputId": "2a7e64f6-91ed-42ba-d9b9-6c97641e3106"
      },
      "execution_count": 7,
      "outputs": [
        {
          "output_type": "stream",
          "name": "stdout",
          "text": [
            "Ejercicio 2\n",
            "Captura el nombre: Guasguas\n",
            "El nombre  Guasguas  tiene  8  caracteres\n"
          ]
        }
      ]
    },
    {
      "cell_type": "code",
      "source": [
        "print (\"Ejercicio 3\")\n",
        "sem=(\"Lunes\",\" Martes\",\" Miercoles\", \" Jueves\", \" Viernes\", \" Sabado\", \" Domingo\")\n",
        "print(sem)\n"
      ],
      "metadata": {
        "colab": {
          "base_uri": "https://localhost:8080/"
        },
        "id": "un-8rrLu8Tqv",
        "outputId": "a96fab5b-9f75-4493-d127-a9edd1416159"
      },
      "execution_count": 9,
      "outputs": [
        {
          "output_type": "stream",
          "name": "stdout",
          "text": [
            "Ejercicio 3\n",
            "('Lunes', ' Martes', ' Miercoles', ' Jueves', ' Viernes', ' Sabado', ' Domingo')\n"
          ]
        }
      ]
    }
  ]
}